{
  "nbformat": 4,
  "nbformat_minor": 0,
  "metadata": {
    "colab": {
      "provenance": [],
      "authorship_tag": "ABX9TyOOpOORmHjDoTdgkWanw8BO",
      "include_colab_link": true
    },
    "kernelspec": {
      "name": "python3",
      "display_name": "Python 3"
    },
    "language_info": {
      "name": "python"
    }
  },
  "cells": [
    {
      "cell_type": "markdown",
      "metadata": {
        "id": "view-in-github",
        "colab_type": "text"
      },
      "source": [
        "<a href=\"https://colab.research.google.com/github/Musa-101/Python/blob/main/Workshop.ipynb\" target=\"_parent\"><img src=\"https://colab.research.google.com/assets/colab-badge.svg\" alt=\"Open In Colab\"/></a>"
      ]
    },
    {
      "cell_type": "code",
      "execution_count": 1,
      "metadata": {
        "colab": {
          "base_uri": "https://localhost:8080/"
        },
        "id": "-quTFUHRGSFO",
        "outputId": "555e4bac-21d3-473a-90f9-46b36d1eda8b"
      },
      "outputs": [
        {
          "output_type": "stream",
          "name": "stdout",
          "text": [
            "Python 3.7.15\n"
          ]
        }
      ],
      "source": [
        "!python --version"
      ]
    },
    {
      "cell_type": "code",
      "source": [
        "a=3\n",
        "b=a*3\n",
        "print(b)"
      ],
      "metadata": {
        "colab": {
          "base_uri": "https://localhost:8080/"
        },
        "id": "czIG3hACJCAJ",
        "outputId": "25a596b2-8eed-4107-ec9f-465be3545875"
      },
      "execution_count": 5,
      "outputs": [
        {
          "output_type": "stream",
          "name": "stdout",
          "text": [
            "9\n"
          ]
        }
      ]
    },
    {
      "cell_type": "code",
      "source": [
        "words=\"Hello World\"\n",
        "print(words)"
      ],
      "metadata": {
        "colab": {
          "base_uri": "https://localhost:8080/"
        },
        "id": "S5uF00vfJSmq",
        "outputId": "69f7085c-5cf6-4633-fa95-23162822dbd1"
      },
      "execution_count": 8,
      "outputs": [
        {
          "output_type": "stream",
          "name": "stdout",
          "text": [
            "Hello World\n"
          ]
        }
      ]
    },
    {
      "cell_type": "code",
      "source": [
        "x={\n",
        "    5:\"This is 5\",\n",
        "}\n",
        "\n",
        "print(5)"
      ],
      "metadata": {
        "colab": {
          "base_uri": "https://localhost:8080/"
        },
        "id": "gM_cHOEJKfi2",
        "outputId": "59a3e7bf-e26f-47f1-96e4-71d4424a5da7"
      },
      "execution_count": 10,
      "outputs": [
        {
          "output_type": "stream",
          "name": "stdout",
          "text": [
            "5\n"
          ]
        }
      ]
    },
    {
      "cell_type": "code",
      "source": [
        "a=30\n",
        "while a>=0:\n",
        "  print(a)\n",
        "  a=a-3"
      ],
      "metadata": {
        "colab": {
          "base_uri": "https://localhost:8080/"
        },
        "id": "r0SbP18BLR0Q",
        "outputId": "421da4da-b118-4cdc-da76-6f5e67698ae9"
      },
      "execution_count": 16,
      "outputs": [
        {
          "output_type": "stream",
          "name": "stdout",
          "text": [
            "30\n",
            "27\n",
            "24\n",
            "21\n",
            "18\n",
            "15\n",
            "12\n",
            "9\n",
            "6\n",
            "3\n",
            "0\n"
          ]
        }
      ]
    },
    {
      "cell_type": "code",
      "source": [
        "list[3] = [1,2,3,3,4,5,4,6,2,7,8,9,5,8,7]\n",
        "print(list)"
      ],
      "metadata": {
        "colab": {
          "base_uri": "https://localhost:8080/"
        },
        "id": "v3fwZnegMvcE",
        "outputId": "344d309e-0468-4a5f-80e9-27a1da9133a6"
      },
      "execution_count": 20,
      "outputs": [
        {
          "output_type": "stream",
          "name": "stdout",
          "text": [
            "[1, 2, 3, [1, 2, 3, 3, 4, 5, 4, 6, 2, 7, 8, 9, 5, 8, 7], 4, 5, 4, 6, 2, 7, 8, 9, 5, 8, 7]\n"
          ]
        }
      ]
    },
    {
      "cell_type": "code",
      "source": [
        "a,b = 1,6\n",
        "if a == 1 and b == 3:\n",
        "  print (a+b)\n",
        "elif a == 1 or b == 3:\n",
        "  print (a-b)"
      ],
      "metadata": {
        "colab": {
          "base_uri": "https://localhost:8080/"
        },
        "id": "I8SYAftNNqqj",
        "outputId": "f30f98ec-c5e4-406c-f356-3c0d9542703a"
      },
      "execution_count": 27,
      "outputs": [
        {
          "output_type": "stream",
          "name": "stdout",
          "text": [
            "-5\n"
          ]
        }
      ]
    },
    {
      "cell_type": "code",
      "source": [
        "def my_func(a,b):\n",
        "  print(\"I am returning squared numbers\")\n",
        "  return a**2, b**2\n",
        "\n",
        "result=my_func(4,7)\n",
        "print(result)\n",
        "  "
      ],
      "metadata": {
        "colab": {
          "base_uri": "https://localhost:8080/"
        },
        "id": "fDJlPeeWO2KS",
        "outputId": "bbd9b88a-efa5-40d6-82ad-e23d0d22ccac"
      },
      "execution_count": 33,
      "outputs": [
        {
          "output_type": "stream",
          "name": "stdout",
          "text": [
            "I am returning squared numbers\n",
            "(16, 49)\n"
          ]
        }
      ]
    },
    {
      "cell_type": "code",
      "source": [
        "\n",
        "target = 12\n",
        "nums = [2,7,11,15]\n",
        "def my_function(nums,targets):\n",
        "  for num in nums:\n",
        "    if num < target:\n",
        "       print(num)\n",
        "  \n",
        "   \n"
      ],
      "metadata": {
        "id": "QV18L6DgbZAt"
      },
      "execution_count": 67,
      "outputs": []
    },
    {
      "cell_type": "code",
      "source": [
        "how to solve squareroot in intergers"
      ],
      "metadata": {
        "id": "TWuDjaIui4h5"
      },
      "execution_count": null,
      "outputs": []
    },
    {
      "cell_type": "code",
      "source": [
        "target = 9\n",
        "nums = [2,7,11,18,]\n",
        "for num in nums: \n",
        "  if num + num == target:\n",
        "    print(num)\n"
      ],
      "metadata": {
        "id": "05fYy7KXc7tL"
      },
      "execution_count": 63,
      "outputs": []
    }
  ]
}